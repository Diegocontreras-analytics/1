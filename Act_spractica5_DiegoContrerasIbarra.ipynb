{
  "nbformat": 4,
  "nbformat_minor": 0,
  "metadata": {
    "colab": {
      "provenance": [],
      "authorship_tag": "ABX9TyNURfj11MfpPlme46PTwMqO",
      "include_colab_link": true
    },
    "kernelspec": {
      "name": "python3",
      "display_name": "Python 3"
    },
    "language_info": {
      "name": "python"
    }
  },
  "cells": [
    {
      "cell_type": "markdown",
      "metadata": {
        "id": "view-in-github",
        "colab_type": "text"
      },
      "source": [
        "<a href=\"https://colab.research.google.com/github/Diegocontreras-analytics/1/blob/main/Act_spractica5_DiegoContrerasIbarra.ipynb\" target=\"_parent\"><img src=\"https://colab.research.google.com/assets/colab-badge.svg\" alt=\"Open In Colab\"/></a>"
      ]
    },
    {
      "cell_type": "markdown",
      "source": [
        "Ejercicio 1: Matriz de Calificaciones\n"
      ],
      "metadata": {
        "id": "ueKq2lfM9shj"
      }
    },
    {
      "cell_type": "code",
      "execution_count": null,
      "metadata": {
        "id": "_kGLsSNE9ZFa",
        "colab": {
          "base_uri": "https://localhost:8080/"
        },
        "outputId": "5d6fefd2-9aac-4abe-8664-e16961701360"
      },
      "outputs": [
        {
          "output_type": "stream",
          "name": "stdout",
          "text": [
            "Matriz notas: \n",
            "[[ 8  7  9]\n",
            " [ 6  5  7]\n",
            " [ 9  8 10]\n",
            " [ 7  6  8]]\n"
          ]
        }
      ],
      "source": [
        "import numpy as np\n",
        "notas = np.array([\n",
        "[8,7,9],\n",
        "[6,5,7],\n",
        "[9,8,10],\n",
        "[7,6,8]\n",
        "])\n",
        "print(\"Matriz notas: \")\n",
        "print(notas)"
      ]
    },
    {
      "cell_type": "code",
      "source": [
        "#Calcula:\n",
        "#Promedio de cada estudiante (promedio por fila).\n",
        "print(\"-----------promedio de estudiantes---------------\")\n",
        "promedio0 = notas[0].mean()\n",
        "print(\"el promedio del primer estudiante es: \",promedio0)\n",
        "promedio1 = notas[1].mean()\n",
        "print(\"el promedio del segundo estudiantes es: \",promedio1)\n",
        "promedio2 = notas[2].mean()\n",
        "print(\"el promedio del tercer estudiante es: \",promedio2)\n",
        "promedio3 = notas[3].mean()\n",
        "print(\"el promedio del cuarto estudiante es:\",promedio3)\n",
        "print(\"----------promedios de examenes-----------------\")\n",
        "#Promedio de cada examen (promedio por columna).\n",
        "promedio_0 = notas[:, 0].mean()\n",
        "print(\"el promedio del primer examen es: \",promedio_0)\n",
        "promedio_1 = notas[:, 1].mean()\n",
        "print(\"el promedio del segundo examen es: \",promedio_1)\n",
        "promedio_2 = notas[:, 2].mean()\n",
        "print(\"el promedio del tercer examen es: \",promedio_2)\n"
      ],
      "metadata": {
        "colab": {
          "base_uri": "https://localhost:8080/"
        },
        "id": "He_cHFhyrHed",
        "outputId": "57ed12a2-7018-4744-cd04-baf6d78aaf0f"
      },
      "execution_count": null,
      "outputs": [
        {
          "output_type": "stream",
          "name": "stdout",
          "text": [
            "-----------promedio de estudiantes---------------\n",
            "el promedio del primer estudiante es:  8.0\n",
            "el promedio del segundo estudiantes es:  6.0\n",
            "el promedio del tercer estudiante es:  9.0\n",
            "el promedio del cuarto estudiante es: 7.0\n",
            "----------promedios de examenes-----------------\n",
            "el promedio del primer examen es:  7.5\n",
            "el promedio del segundo examen es:  6.5\n",
            "el promedio del tercer examen es:  8.5\n"
          ]
        }
      ]
    },
    {
      "cell_type": "code",
      "source": [
        "#Extrae (slice) la columna del segundo examen.\n",
        "segundo_examen = notas[:,1]\n",
        "print(segundo_examen)\n",
        "#Crea un nuevo arreglo con las notas mayores o iguales a 8.#\n",
        "buenas_notas = notas[notas >= 8]\n",
        "print(buenas_notas)"
      ],
      "metadata": {
        "colab": {
          "base_uri": "https://localhost:8080/"
        },
        "id": "9d4rJd_9rT3u",
        "outputId": "513379aa-35b3-45c4-a174-57e08e0e797a"
      },
      "execution_count": null,
      "outputs": [
        {
          "output_type": "stream",
          "name": "stdout",
          "text": [
            "[7 5 8 6]\n",
            "[ 8  9  9  8 10  8]\n"
          ]
        }
      ]
    },
    {
      "cell_type": "markdown",
      "source": [
        "Ejercicio 2: Estadísticas Básicas de Ventas\n"
      ],
      "metadata": {
        "id": "WZAW9au23KlR"
      }
    },
    {
      "cell_type": "code",
      "source": [
        "#Crea un arreglo ventas con los valores:[12, 15, 8, 20, 5, 18, 10].\n",
        "ventas = np.array([12,15,8,20,5,18,10])"
      ],
      "metadata": {
        "id": "0uUeKANx3NA_"
      },
      "execution_count": null,
      "outputs": []
    },
    {
      "cell_type": "code",
      "source": [
        "#Calcula:\n",
        "#Venta total (sum)\n",
        "plus = np.sum(ventas)\n",
        "print(plus)\n",
        "#Venta promedio (mean)\n",
        "prom = np.mean(ventas)\n",
        "print(prom)\n",
        "#Venta máxima y mínima (max, min)\n",
        "maximo = np.max(ventas)\n",
        "print(maximo)\n",
        "minimo = np.min(ventas)\n",
        "print(minimo)"
      ],
      "metadata": {
        "colab": {
          "base_uri": "https://localhost:8080/"
        },
        "id": "ewR3VGbE373b",
        "outputId": "5569b958-95e0-422d-a6ea-4f3c92983dd3"
      },
      "execution_count": null,
      "outputs": [
        {
          "output_type": "stream",
          "name": "stdout",
          "text": [
            "88\n",
            "12.571428571428571\n",
            "20\n",
            "5\n"
          ]
        }
      ]
    },
    {
      "cell_type": "code",
      "source": [
        "#Crea un nuevo arreglo mayores_promedio con solo las ventas mayores al promedio.\n",
        "mayores_promedio = ventas[ventas > prom]\n",
        "print(mayores_promedio)"
      ],
      "metadata": {
        "colab": {
          "base_uri": "https://localhost:8080/"
        },
        "id": "mfgmpdzh4Cg5",
        "outputId": "0e257b8e-3ddf-4c20-e375-0f0fa4db0310"
      },
      "execution_count": null,
      "outputs": [
        {
          "output_type": "stream",
          "name": "stdout",
          "text": [
            "[15 20 18]\n"
          ]
        }
      ]
    },
    {
      "cell_type": "code",
      "source": [
        "#Ordena el arreglo ventas de menor a mayor.\n",
        "ventas_ordenadas = np.sort(ventas)\n",
        "print(ventas_ordenadas)"
      ],
      "metadata": {
        "colab": {
          "base_uri": "https://localhost:8080/"
        },
        "id": "dO0QcISU4EPD",
        "outputId": "8fd21866-e2b7-4062-813b-cba300725b8f"
      },
      "execution_count": null,
      "outputs": [
        {
          "output_type": "stream",
          "name": "stdout",
          "text": [
            "[ 5  8 10 12 15 18 20]\n"
          ]
        }
      ]
    }
  ]
}